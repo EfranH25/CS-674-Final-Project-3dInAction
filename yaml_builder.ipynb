{
 "cells": [
  {
   "cell_type": "code",
   "execution_count": 1,
   "metadata": {},
   "outputs": [],
   "source": [
    "\n",
    "# helper function to build various yamls with grid search\n",
    "import yaml\n",
    "import os"
   ]
  },
  {
   "cell_type": "code",
   "execution_count": 2,
   "metadata": {},
   "outputs": [],
   "source": [
    "cfg_loc = f'configs\\msr-action3d\\config_msr_action3d_dev-mathew-2.yaml'\n",
    "cfg = yaml.safe_load(open(cfg_loc))"
   ]
  },
  {
   "cell_type": "code",
   "execution_count": 3,
   "metadata": {},
   "outputs": [
    {
     "data": {
      "text/plain": [
       "([1024, 2048], [4, 16], [32, 64, 128], [32, 64, 128], [0.001, 0.025, 0.05])"
      ]
     },
     "execution_count": 3,
     "metadata": {},
     "output_type": "execute_result"
    }
   ],
   "source": [
    "\n",
    "#? grid search params\n",
    "dim_hidden_list = [ 512*2, 512*4]\n",
    "num_heads_list = [4, 4*4]\n",
    "num_inds_list = [32, 32*2, 32*4]\n",
    "batch_size_list = [32, 32*2, 32*4]\n",
    "lr_list = [0.001, 0.025, 0.05]\n",
    "dim_hidden_list, num_heads_list, num_inds_list, batch_size_list, lr_list"
   ]
  },
  {
   "cell_type": "code",
   "execution_count": 4,
   "metadata": {},
   "outputs": [
    {
     "data": {
      "text/plain": [
       "108"
      ]
     },
     "execution_count": 4,
     "metadata": {},
     "output_type": "execute_result"
    }
   ],
   "source": [
    "len(dim_hidden_list) * len(num_heads_list) * len(num_inds_list) * len(batch_size_list) * len(lr_list) "
   ]
  },
  {
   "cell_type": "code",
   "execution_count": 5,
   "metadata": {},
   "outputs": [],
   "source": [
    "for dim_hidden in dim_hidden_list:\n",
    "    for num_heads in num_heads_list:\n",
    "        for num_inds in num_inds_list:\n",
    "            for batch_size in batch_size_list:\n",
    "                for lr in lr_list:\n",
    "                    output_file = os.path.join('configs\\msr-action3d\\grid_temporal', f'config_msr_action3d_temporal_{dim_hidden}_{num_heads}_{num_inds}_{batch_size}_{lr}.yaml')\n",
    "                    cfg['MODEL']['SET_TRANSFORMER']['dim_hidden'] = dim_hidden\n",
    "                    cfg['MODEL']['SET_TRANSFORMER']['num_heads'] = num_heads\n",
    "                    cfg['MODEL']['SET_TRANSFORMER']['num_inds'] = num_inds\n",
    "                    cfg['TRAINING']['batch_size'] = batch_size\n",
    "                    cfg['TRAINING']['lr'] = lr\n",
    "                    \n",
    "                    with open(output_file, 'w') as f:\n",
    "                        yaml.dump(cfg, f)\n",
    "                    "
   ]
  },
  {
   "cell_type": "code",
   "execution_count": 8,
   "metadata": {},
   "outputs": [],
   "source": [
    "with open(os.path.join('configs\\msr-action3d\\grid_temporal', 'test.yaml'), 'w') as f:\n",
    "    yaml.dump(cfg, f)"
   ]
  },
  {
   "cell_type": "markdown",
   "metadata": {},
   "source": [
    "#### manual"
   ]
  },
  {
   "cell_type": "code",
   "execution_count": 9,
   "metadata": {},
   "outputs": [],
   "source": [
    "dim_hidden = 2048\n",
    "num_heads = 4\n",
    "num_inds = 32\n",
    "batch_size = 64\n",
    "lr = 0.001\n",
    "\n",
    "\n",
    "output_file = os.path.join('configs\\msr-action3d\\config_msr_action3d_grid_search_2', f'config_msr_action3d_grid_search_2_{dim_hidden}_{num_heads}_{num_inds}_{batch_size}_{lr}.yaml')\n",
    "cfg['MODEL']['SET_TRANSFORMER']['dim_hidden'] = dim_hidden\n",
    "cfg['MODEL']['SET_TRANSFORMER']['num_heads'] = num_heads\n",
    "cfg['MODEL']['SET_TRANSFORMER']['num_inds'] = num_inds\n",
    "cfg['TRAINING']['batch_size'] = batch_size\n",
    "cfg['TRAINING']['lr'] = lr\n",
    "\n",
    "with open(output_file, 'w') as f:\n",
    "    yaml.dump(cfg, f)"
   ]
  }
 ],
 "metadata": {
  "kernelspec": {
   "display_name": "tpatches_env",
   "language": "python",
   "name": "python3"
  },
  "language_info": {
   "codemirror_mode": {
    "name": "ipython",
    "version": 3
   },
   "file_extension": ".py",
   "mimetype": "text/x-python",
   "name": "python",
   "nbconvert_exporter": "python",
   "pygments_lexer": "ipython3",
   "version": "3.8.16"
  }
 },
 "nbformat": 4,
 "nbformat_minor": 2
}
