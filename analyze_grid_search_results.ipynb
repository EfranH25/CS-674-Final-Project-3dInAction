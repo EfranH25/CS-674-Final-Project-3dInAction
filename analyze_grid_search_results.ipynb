{
 "cells": [
  {
   "cell_type": "code",
   "execution_count": 8,
   "metadata": {},
   "outputs": [],
   "source": [
    "import json\n",
    "import pandas as pd\n",
    "import pickle\n",
    "import os\n",
    "import shutil"
   ]
  },
  {
   "cell_type": "code",
   "execution_count": 31,
   "metadata": {},
   "outputs": [
    {
     "data": {
      "text/plain": [
       "['config', 'msr', 'action3d', 'temporal', '1024', '16', '128', '128', '0.001']"
      ]
     },
     "execution_count": 31,
     "metadata": {},
     "output_type": "execute_result"
    }
   ],
   "source": [
    "'config_msr_action3d_temporal_1024_16_128_128_0.001'.split('_')"
   ]
  },
  {
   "cell_type": "code",
   "execution_count": 11,
   "metadata": {},
   "outputs": [
    {
     "data": {
      "text/html": [
       "<div>\n",
       "<style scoped>\n",
       "    .dataframe tbody tr th:only-of-type {\n",
       "        vertical-align: middle;\n",
       "    }\n",
       "\n",
       "    .dataframe tbody tr th {\n",
       "        vertical-align: top;\n",
       "    }\n",
       "\n",
       "    .dataframe thead th {\n",
       "        text-align: right;\n",
       "    }\n",
       "</style>\n",
       "<table border=\"1\" class=\"dataframe\">\n",
       "  <thead>\n",
       "    <tr style=\"text-align: right;\">\n",
       "      <th></th>\n",
       "      <th>model</th>\n",
       "      <th>accuracy</th>\n",
       "    </tr>\n",
       "  </thead>\n",
       "  <tbody>\n",
       "    <tr>\n",
       "      <th>0</th>\n",
       "      <td>config_msr_action3d_temporal_1024_16_128_128_0...</td>\n",
       "      <td>4.807692</td>\n",
       "    </tr>\n",
       "    <tr>\n",
       "      <th>1</th>\n",
       "      <td>config_msr_action3d_temporal_1024_16_128_128_0...</td>\n",
       "      <td>6.129808</td>\n",
       "    </tr>\n",
       "    <tr>\n",
       "      <th>2</th>\n",
       "      <td>config_msr_action3d_temporal_1024_16_128_128_0.05</td>\n",
       "      <td>4.807692</td>\n",
       "    </tr>\n",
       "    <tr>\n",
       "      <th>3</th>\n",
       "      <td>config_msr_action3d_temporal_1024_16_128_32_0.001</td>\n",
       "      <td>6.370192</td>\n",
       "    </tr>\n",
       "    <tr>\n",
       "      <th>4</th>\n",
       "      <td>config_msr_action3d_temporal_1024_16_128_128_0...</td>\n",
       "      <td>4.447115</td>\n",
       "    </tr>\n",
       "    <tr>\n",
       "      <th>...</th>\n",
       "      <td>...</td>\n",
       "      <td>...</td>\n",
       "    </tr>\n",
       "    <tr>\n",
       "      <th>118</th>\n",
       "      <td>config_msr_action3d_temporal_512_16_128_32_0.025</td>\n",
       "      <td>4.807692</td>\n",
       "    </tr>\n",
       "    <tr>\n",
       "      <th>119</th>\n",
       "      <td>config_msr_action3d_temporal_512_16_128_32_0.05</td>\n",
       "      <td>4.326923</td>\n",
       "    </tr>\n",
       "    <tr>\n",
       "      <th>120</th>\n",
       "      <td>config_msr_action3d_temporal_512_16_128_64_0.001</td>\n",
       "      <td>4.206731</td>\n",
       "    </tr>\n",
       "    <tr>\n",
       "      <th>121</th>\n",
       "      <td>config_msr_action3d_temporal_512_16_128_64_0.025</td>\n",
       "      <td>4.807692</td>\n",
       "    </tr>\n",
       "    <tr>\n",
       "      <th>122</th>\n",
       "      <td>config_msr_action3d_dev-mathew-2</td>\n",
       "      <td>9.765625</td>\n",
       "    </tr>\n",
       "  </tbody>\n",
       "</table>\n",
       "<p>123 rows × 2 columns</p>\n",
       "</div>"
      ],
      "text/plain": [
       "                                                 model  accuracy\n",
       "0    config_msr_action3d_temporal_1024_16_128_128_0...  4.807692\n",
       "1    config_msr_action3d_temporal_1024_16_128_128_0...  6.129808\n",
       "2    config_msr_action3d_temporal_1024_16_128_128_0.05  4.807692\n",
       "3    config_msr_action3d_temporal_1024_16_128_32_0.001  6.370192\n",
       "4    config_msr_action3d_temporal_1024_16_128_128_0...  4.447115\n",
       "..                                                 ...       ...\n",
       "118   config_msr_action3d_temporal_512_16_128_32_0.025  4.807692\n",
       "119    config_msr_action3d_temporal_512_16_128_32_0.05  4.326923\n",
       "120   config_msr_action3d_temporal_512_16_128_64_0.001  4.206731\n",
       "121   config_msr_action3d_temporal_512_16_128_64_0.025  4.807692\n",
       "122                   config_msr_action3d_dev-mathew-2  9.765625\n",
       "\n",
       "[123 rows x 2 columns]"
      ]
     },
     "execution_count": 11,
     "metadata": {},
     "output_type": "execute_result"
    }
   ],
   "source": [
    "hold_out_score = json.load(open(r'holdout_scores.json'))\n",
    "df_hold_out_score = pd.DataFrame(hold_out_score)\n",
    "df_hold_out_score"
   ]
  },
  {
   "cell_type": "code",
   "execution_count": 18,
   "metadata": {},
   "outputs": [
    {
     "data": {
      "text/plain": [
       "0      1024\n",
       "1      1024\n",
       "2      1024\n",
       "3      1024\n",
       "4      1024\n",
       "       ... \n",
       "118     512\n",
       "119     512\n",
       "120     512\n",
       "121     512\n",
       "122    None\n",
       "Name: model, Length: 123, dtype: object"
      ]
     },
     "execution_count": 18,
     "metadata": {},
     "output_type": "execute_result"
    }
   ],
   "source": [
    "df_hold_out_score['model'].apply(lambda x: x.split('_')[4] if len(x.split('_')) > 4 else None)"
   ]
  },
  {
   "cell_type": "code",
   "execution_count": 19,
   "metadata": {},
   "outputs": [],
   "source": [
    "df_hold_out_score['dim_hidden'] = df_hold_out_score['model'].apply(lambda x: x.split('_')[4] if len(x.split('_')) > 4 else None)\n",
    "df_hold_out_score['num_heads'] = df_hold_out_score['model'].apply(lambda x: x.split('_')[5] if len(x.split('_')) > 5 else None)\n",
    "df_hold_out_score['num_inds'] = df_hold_out_score['model'].apply(lambda x: x.split('_')[6] if len(x.split('_')) > 6 else None)\n",
    "df_hold_out_score['batch_size'] = df_hold_out_score['model'].apply(lambda x: x.split('_')[7] if len(x.split('_')) > 7 else None)\n",
    "df_hold_out_score['lr'] = df_hold_out_score['model'].apply(lambda x: x.split('_')[8] if len(x.split('_')) > 8 else None)"
   ]
  },
  {
   "cell_type": "code",
   "execution_count": 21,
   "metadata": {},
   "outputs": [
    {
     "data": {
      "text/html": [
       "<div>\n",
       "<style scoped>\n",
       "    .dataframe tbody tr th:only-of-type {\n",
       "        vertical-align: middle;\n",
       "    }\n",
       "\n",
       "    .dataframe tbody tr th {\n",
       "        vertical-align: top;\n",
       "    }\n",
       "\n",
       "    .dataframe thead th {\n",
       "        text-align: right;\n",
       "    }\n",
       "</style>\n",
       "<table border=\"1\" class=\"dataframe\">\n",
       "  <thead>\n",
       "    <tr style=\"text-align: right;\">\n",
       "      <th></th>\n",
       "      <th>model</th>\n",
       "      <th>accuracy</th>\n",
       "      <th>dim_hidden</th>\n",
       "      <th>num_heads</th>\n",
       "      <th>num_inds</th>\n",
       "      <th>batch_size</th>\n",
       "      <th>lr</th>\n",
       "    </tr>\n",
       "  </thead>\n",
       "  <tbody>\n",
       "    <tr>\n",
       "      <th>25</th>\n",
       "      <td>config_msr_action3d_temporal_1024_16_64_32_0.001</td>\n",
       "      <td>9.615385</td>\n",
       "      <td>1024</td>\n",
       "      <td>16</td>\n",
       "      <td>64</td>\n",
       "      <td>32</td>\n",
       "      <td>0.001</td>\n",
       "    </tr>\n",
       "    <tr>\n",
       "      <th>35</th>\n",
       "      <td>config_msr_action3d_temporal_1024_4_128_32_0.025</td>\n",
       "      <td>9.014423</td>\n",
       "      <td>1024</td>\n",
       "      <td>4</td>\n",
       "      <td>128</td>\n",
       "      <td>32</td>\n",
       "      <td>0.025</td>\n",
       "    </tr>\n",
       "    <tr>\n",
       "      <th>78</th>\n",
       "      <td>config_msr_action3d_temporal_2048_16_64_128_0.001</td>\n",
       "      <td>7.091346</td>\n",
       "      <td>2048</td>\n",
       "      <td>16</td>\n",
       "      <td>64</td>\n",
       "      <td>128</td>\n",
       "      <td>0.001</td>\n",
       "    </tr>\n",
       "    <tr>\n",
       "      <th>102</th>\n",
       "      <td>config_msr_action3d_temporal_2048_4_32_64_0.001</td>\n",
       "      <td>7.331731</td>\n",
       "      <td>2048</td>\n",
       "      <td>4</td>\n",
       "      <td>32</td>\n",
       "      <td>64</td>\n",
       "      <td>0.001</td>\n",
       "    </tr>\n",
       "    <tr>\n",
       "      <th>122</th>\n",
       "      <td>config_msr_action3d_dev-mathew-2</td>\n",
       "      <td>9.765625</td>\n",
       "      <td>None</td>\n",
       "      <td>None</td>\n",
       "      <td>None</td>\n",
       "      <td>None</td>\n",
       "      <td>None</td>\n",
       "    </tr>\n",
       "  </tbody>\n",
       "</table>\n",
       "</div>"
      ],
      "text/plain": [
       "                                                 model  accuracy dim_hidden  \\\n",
       "25    config_msr_action3d_temporal_1024_16_64_32_0.001  9.615385       1024   \n",
       "35    config_msr_action3d_temporal_1024_4_128_32_0.025  9.014423       1024   \n",
       "78   config_msr_action3d_temporal_2048_16_64_128_0.001  7.091346       2048   \n",
       "102    config_msr_action3d_temporal_2048_4_32_64_0.001  7.331731       2048   \n",
       "122                   config_msr_action3d_dev-mathew-2  9.765625       None   \n",
       "\n",
       "    num_heads num_inds batch_size     lr  \n",
       "25         16       64         32  0.001  \n",
       "35          4      128         32  0.025  \n",
       "78         16       64        128  0.001  \n",
       "102         4       32         64  0.001  \n",
       "122      None     None       None   None  "
      ]
     },
     "execution_count": 21,
     "metadata": {},
     "output_type": "execute_result"
    }
   ],
   "source": [
    "df_hold_out_score[df_hold_out_score['accuracy'] > 7]"
   ]
  },
  {
   "cell_type": "code",
   "execution_count": 36,
   "metadata": {},
   "outputs": [
    {
     "data": {
      "text/plain": [
       "['config_msr_action3d_temporal_1024_16_128_128_0.025',\n",
       " 'config_msr_action3d_temporal_1024_16_128_32_0.001',\n",
       " 'config_msr_action3d_temporal_1024_16_128_32_0.001',\n",
       " 'config_msr_action3d_temporal_1024_16_128_64_0.001',\n",
       " 'config_msr_action3d_temporal_1024_16_128_64_0.025',\n",
       " 'config_msr_action3d_temporal_1024_16_32_128_0.001',\n",
       " 'config_msr_action3d_temporal_1024_16_32_32_0.001',\n",
       " 'config_msr_action3d_temporal_1024_16_32_64_0.001',\n",
       " 'config_msr_action3d_temporal_1024_16_32_64_0.025',\n",
       " 'config_msr_action3d_temporal_1024_16_64_32_0.001',\n",
       " 'config_msr_action3d_temporal_1024_16_64_64_0.001',\n",
       " 'config_msr_action3d_temporal_1024_4_128_32_0.025',\n",
       " 'config_msr_action3d_temporal_1024_4_128_64_0.001',\n",
       " 'config_msr_action3d_temporal_1024_4_32_32_0.001',\n",
       " 'config_msr_action3d_temporal_1024_4_32_32_0.025',\n",
       " 'config_msr_action3d_temporal_1024_4_32_64_0.025',\n",
       " 'config_msr_action3d_temporal_1024_4_64_128_0.001',\n",
       " 'config_msr_action3d_temporal_1024_4_64_64_0.001',\n",
       " 'config_msr_action3d_temporal_2048_16_128_128_0.001',\n",
       " 'config_msr_action3d_temporal_2048_16_128_64_0.001',\n",
       " 'config_msr_action3d_temporal_2048_16_32_128_0.001']"
      ]
     },
     "execution_count": 36,
     "metadata": {},
     "output_type": "execute_result"
    }
   ],
   "source": [
    "keep_models = df_hold_out_score[df_hold_out_score['accuracy'] > 5]['model'].to_list()\n",
    "keep_models"
   ]
  },
  {
   "cell_type": "code",
   "execution_count": 37,
   "metadata": {},
   "outputs": [
    {
     "data": {
      "text/plain": [
       "['config_msr_action3d_temporal_1024_16_128_128_0.025',\n",
       " 'config_msr_action3d_temporal_1024_16_128_32_0.001',\n",
       " 'config_msr_action3d_temporal_1024_16_128_64_0.001',\n",
       " 'config_msr_action3d_temporal_1024_16_128_64_0.025',\n",
       " 'config_msr_action3d_temporal_1024_16_32_128_0.001',\n",
       " 'config_msr_action3d_temporal_1024_16_32_32_0.001',\n",
       " 'config_msr_action3d_temporal_1024_16_32_64_0.001',\n",
       " 'config_msr_action3d_temporal_1024_16_32_64_0.025',\n",
       " 'config_msr_action3d_temporal_1024_16_64_32_0.001',\n",
       " 'config_msr_action3d_temporal_1024_16_64_64_0.001',\n",
       " 'config_msr_action3d_temporal_1024_4_128_32_0.025',\n",
       " 'config_msr_action3d_temporal_1024_4_128_64_0.001',\n",
       " 'config_msr_action3d_temporal_1024_4_32_32_0.001',\n",
       " 'config_msr_action3d_temporal_1024_4_32_32_0.025',\n",
       " 'config_msr_action3d_temporal_1024_4_32_64_0.025',\n",
       " 'config_msr_action3d_temporal_1024_4_64_128_0.001',\n",
       " 'config_msr_action3d_temporal_1024_4_64_64_0.001',\n",
       " 'config_msr_action3d_temporal_2048_16_128_128_0.001',\n",
       " 'config_msr_action3d_temporal_2048_16_128_64_0.001',\n",
       " 'config_msr_action3d_temporal_2048_16_32_128_0.001']"
      ]
     },
     "execution_count": 37,
     "metadata": {},
     "output_type": "execute_result"
    }
   ],
   "source": [
    "path = r'log'\n",
    "\n",
    "model_list_temp = [x for x in os.listdir(path) if 'msr_action3d_temporal' in x]\n",
    "model_list_temp"
   ]
  },
  {
   "cell_type": "code",
   "execution_count": 38,
   "metadata": {},
   "outputs": [],
   "source": [
    "for model in model_list_temp:\n",
    "    if model not in keep_models:\n",
    "        print(model)\n",
    "        #shutil.rmtree(os.path.join(path, model))"
   ]
  }
 ],
 "metadata": {
  "kernelspec": {
   "display_name": "tpatches_env",
   "language": "python",
   "name": "python3"
  },
  "language_info": {
   "codemirror_mode": {
    "name": "ipython",
    "version": 3
   },
   "file_extension": ".py",
   "mimetype": "text/x-python",
   "name": "python",
   "nbconvert_exporter": "python",
   "pygments_lexer": "ipython3",
   "version": "3.8.16"
  }
 },
 "nbformat": 4,
 "nbformat_minor": 2
}
