{
 "cells": [
  {
   "cell_type": "markdown",
   "metadata": {},
   "source": [
    "this is a helper notebook to make holdout data for msr_action"
   ]
  },
  {
   "cell_type": "markdown",
   "metadata": {},
   "source": [
    "# run.py"
   ]
  },
  {
   "cell_type": "code",
   "execution_count": 1,
   "metadata": {},
   "outputs": [
    {
     "name": "stderr",
     "output_type": "stream",
     "text": [
      "c:\\Users\\Efran\\anaconda3\\envs\\tpatches_env\\lib\\site-packages\\tqdm\\auto.py:22: TqdmWarning: IProgress not found. Please update jupyter and ipywidgets. See https://ipywidgets.readthedocs.io/en/stable/user_install.html\n",
      "  from .autonotebook import tqdm as notebook_tqdm\n"
     ]
    }
   ],
   "source": [
    "import argparse\n",
    "import train\n",
    "import test\n",
    "import evaluate\n",
    "import pandas as pd"
   ]
  },
  {
   "cell_type": "code",
   "execution_count": 5,
   "metadata": {},
   "outputs": [
    {
     "name": "stdout",
     "output_type": "stream",
     "text": [
      "args Namespace(config='configs\\\\msr-action3d\\\\config_msr_action3d_temporal_0.yaml', fix_random_seed=True, identifier='debug_msr_action_3', logdir='./log/', loglevel='debug', model_ckpt='000001.pt')\n"
     ]
    }
   ],
   "source": [
    "GPU_IDX=0\n",
    "CUDA_DEVICE_ORDER=\"PCI_BUS_ID\"\n",
    "CUDA_VISIBLE_DEVICES=GPU_IDX\n",
    "\n",
    "\n",
    "#? setup arg parser to pass in config info\n",
    "parser = argparse.ArgumentParser()\n",
    "parser.add_argument('--logdir', type=str, default='./log/', help='path to model save dir')\n",
    "parser.add_argument('--loglevel', type=str, default='info', help='set level of logger')\n",
    "parser.add_argument('--identifier', type=str, default='debug', help='unique run identifier')\n",
    "parser.add_argument('--config', type=str, default='./configs/dfaust/config_dfaust.yaml', help='path to yaml config file')\n",
    "parser.add_argument('--model_ckpt', type=str, default='000000.pt', help='checkpoint to load')\n",
    "parser.add_argument('--fix_random_seed', action='store_true', default=False, help='fix random seed')\n",
    "args = parser.parse_args([])\n",
    "\n",
    "#? Manually set arg parser values here:\n",
    "#? Comment out if you want to use terminal flags above instead (I just got tired of manually entering them in)\n",
    "args.logdir = './log/'\n",
    "args.loglevel = 'debug'\n",
    "args.identifier = 'debug_msr_action_3'\n",
    "#args.identifier = 'set_transformer_dbug'\n",
    "args.config = r'configs\\msr-action3d\\config_msr_action3d_temporal_0.yaml'\n",
    "args.model_ckpt = '000001.pt'\n",
    "args.fix_random_seed = True\n",
    "print('args', args)"
   ]
  },
  {
   "cell_type": "markdown",
   "metadata": {},
   "source": [
    "# train.py"
   ]
  },
  {
   "cell_type": "code",
   "execution_count": 6,
   "metadata": {},
   "outputs": [],
   "source": [
    "\n",
    "# Author: Yizhak Ben-Shabat (Itzik), 2022\n",
    "# train 3DInAction\n",
    "\n",
    "import os\n",
    "import yaml\n",
    "import argparse\n",
    "import i3d_utils as utils\n",
    "import torch\n",
    "import torch.nn as nn\n",
    "import torch.nn.functional as F\n",
    "import torch.optim as optim\n",
    "import numpy as np\n",
    "import random\n",
    "import json\n",
    "\n",
    "from models.pointnet import feature_transform_regularizer\n",
    "from models import build_model\n",
    "from datasets import build_dataloader\n",
    "\n",
    "#import wandb\n",
    "from tqdm import tqdm\n",
    "\n",
    "import logging\n",
    "\n",
    "def create_basic_logger(logdir, level = 'info'):\n",
    "    print(f'Using logging level {level} for train.py')\n",
    "    global logger\n",
    "    logger = logging.getLogger('train_logger')\n",
    "    \n",
    "    #? set logging level\n",
    "    if level.lower() == 'debug':\n",
    "        logger.setLevel(logging.DEBUG)\n",
    "    elif level.lower() == 'info':\n",
    "        logger.setLevel(logging.INFO)\n",
    "    elif level.lower() == 'warning':\n",
    "        logger.setLevel(logging.WARNING)\n",
    "    elif level.lower() == 'error':\n",
    "        logger.setLevel(logging.ERROR)\n",
    "    elif level.lower() == 'critical':\n",
    "        logger.setLevel(logging.CRITICAL)\n",
    "    else:\n",
    "        logger.setLevel(logging.INFO)\n",
    "    \n",
    "    #? create handlers\n",
    "    file_handler = logging.FileHandler(os.path.join(logdir, \"log_train.log\"))\n",
    "    formatter = logging.Formatter('%(asctime)s - %(levelname)s - %(message)s')\n",
    "    file_handler.setFormatter(formatter)\n",
    "    logger.addHandler(file_handler)\n",
    "    \n",
    "    stream_handler = logging.StreamHandler()\n",
    "    #stream_handler.setLevel(logging.INFO)\n",
    "    #stream_handler.setFormatter(stream_handler)\n",
    "    logger.addHandler(stream_handler)\n",
    "    return logger"
   ]
  },
  {
   "cell_type": "code",
   "execution_count": 7,
   "metadata": {},
   "outputs": [
    {
     "name": "stderr",
     "output_type": "stream",
     "text": [
      "=================== Starting training run for debug_msr_action_3 with data MSR-Action3D\n",
      "{'DATA': {'data_sampler': 'weighted', 'dataset_path': 'datasets\\\\data\\\\MSRAction3D_fps_new\\\\train', 'dataset_path_test': 'datasets\\\\data\\\\MSRAction3D_fps_new\\\\test', 'frame_skip': 1, 'frames_per_clip': 64, 'gender': 'all', 'n_points': 128, 'name': 'MSR-Action3D', 'noisy_data': {'test': False, 'train': False}, 'shuffle_points': 'fps_each_frame'}, 'MODEL': {'3DMFV': {'n_gaussians': 8}, 'P4TRANSFORMER': {'depth': 10, 'dim': 1024, 'dim_head': 256, 'dropout1': 0.05, 'dropout2': 0.5, 'emb_relu': False, 'heads': 8, 'mlp_dim': 2048, 'nsamples': 32, 'radius': 0.1, 'spatial_stride': 32, 'temporal_kernel_size': 3, 'temporal_stride': 2}, 'PSTNET': {'nsamples': 9, 'radius': 0.1}, 'PST_TRANSFORMER': {'depth': 5, 'dim': 1024, 'dim_head': 256, 'dropout1': 0.0, 'dropout2': 0.5, 'heads': 8, 'mlp_dim': 2048, 'nsamples': 32, 'radius': 0.1, 'spatial_stride': 32, 'temporal_kernel_size': 3, 'temporal_stride': 2}, 'SET_TRANSFORMER': {'dim_hidden': 512, 'dim_input': 3, 'ln': False, 'num_heads': 4, 'num_inds': 32, 'num_outputs': 1, 'temporal_smoothing': 0}, 'TPATCHES': {'attn_num_heads': 4, 'centroid_jitter': 0.005, 'downsample_method': 'fps', 'extractor_type': 'strided', 'k': [16, 16, 16], 'local_temp_convs': [7, 3, 3], 'npoints': [512, 128, None], 'radius': [0.2, 0.4, None], 'sample_mode': 'nn', 'temp_conv': 64, 'temporal_stride': 1, 'type': 'skip_con'}, 'pc_model': 'set_transformer'}, 'TESTING': {'aug': [''], 'batch_size': 2, 'set': 'test'}, 'TRAINING': {'aug': [''], 'batch_size': 32, 'lr': 0.001, 'n_epochs': 800, 'pretrained_model': None, 'refine': False, 'refine_epoch': 2700, 'steps_per_update': 8}, 'num_workers': 0, 'save_every': 100, 'seed': 0}\n"
     ]
    },
    {
     "name": "stderr",
     "output_type": "stream",
     "text": [
      "saving outputs for this run too: ./log/debug_msr_action_3\n"
     ]
    },
    {
     "name": "stdout",
     "output_type": "stream",
     "text": [
      "Using logging level debug for train.py\n"
     ]
    }
   ],
   "source": [
    "cfg = yaml.safe_load(open(args.config))\n",
    "logdir = os.path.join(args.logdir, args.identifier)\n",
    "os.makedirs(logdir, exist_ok=True)\n",
    "\n",
    "logger = create_basic_logger(logdir = logdir, level = args.loglevel)\n",
    "\n",
    "# TODO: move to cfg project_name, entity\n",
    "if cfg['DATA'].get('name') == 'DFAUST':\n",
    "    project_name = 'DFAUST'\n",
    "elif cfg['DATA'].get('name') == 'IKEA_EGO':\n",
    "    project_name = 'IKEA EGO'\n",
    "elif cfg['DATA'].get('name') == 'IKEA_ASM':\n",
    "    project_name = 'IKEA ASM'\n",
    "elif cfg['DATA'].get('name') == 'MSR-Action3D':\n",
    "    project_name = 'MSR-Action3D'\n",
    "else:\n",
    "    raise NotImplementedError\n",
    "\n",
    "logger.info(f'=================== Starting training run for {args.identifier} with data {project_name}')\n",
    "logger.info(cfg)\n",
    "\n",
    "\n",
    "#wandb_run = wandb.init(project=project_name, entity='mkjohn', save_code=True)\n",
    "#cfg['WANDB'] = {'id': wandb_run.id, 'project': wandb_run.project, 'entity': wandb_run.entity}\n",
    "\n",
    "with open(os.path.join(logdir, 'config.yaml'), 'w') as outfile:\n",
    "    yaml.dump(cfg, outfile, default_flow_style=False)\n",
    "    \n",
    "logger.info(f'saving outputs for this run too: {logdir}')\n",
    "\n",
    "#wandb_run.name = args.identifier\n",
    "#wandb.config.update(cfg)  # adds all the arguments as config variables\n",
    "#wandb.run.log_code(\".\")\n",
    "# define our custom x axis metric\n",
    "#wandb.define_metric(\"train/step\")\n",
    "#wandb.define_metric(\"train/*\", step_metric=\"train/step\")\n",
    "#wandb.define_metric(\"test/*\", step_metric=\"train/step\")"
   ]
  },
  {
   "cell_type": "code",
   "execution_count": 8,
   "metadata": {},
   "outputs": [
    {
     "name": "stderr",
     "output_type": "stream",
     "text": [
      "backed up the current training file: ('F:\\\\Classes\\\\COMPSCI 674 - Intelligent Visual Computing\\\\Project\\\\CS-674-Final-Project-3dInAction\\\\train.py', './log/debug_msr_action_3\\\\train.py')\n",
      "backup the models files: models/*.py, ./log/debug_msr_action_3\\models\n"
     ]
    }
   ],
   "source": [
    "n_epochs = cfg['TRAINING']['n_epochs']\n",
    "lr = cfg['TRAINING']['lr']\n",
    "batch_size = cfg['TRAINING']['batch_size']\n",
    "refine, refine_epoch = cfg['TRAINING']['refine'], cfg['TRAINING']['refine_epoch']\n",
    "pretrained_model = cfg['TRAINING']['pretrained_model']\n",
    "pc_model = cfg['MODEL']['pc_model']\n",
    "frames_per_clip = cfg['DATA']['frames_per_clip']\n",
    "num_steps_per_update = cfg['TRAINING']['steps_per_update']\n",
    "save_every = cfg['save_every']\n",
    "\n",
    "if args.fix_random_seed:\n",
    "    seed = cfg['seed']\n",
    "    random.seed(seed)\n",
    "    np.random.seed(seed)\n",
    "    torch.manual_seed(seed)\n",
    "    torch.backends.cudnn.deterministic = True\n",
    "    torch.backends.cudnn.benchmark = False\n",
    "\n",
    "back_file = os.path.join(logdir, 'train.py')\n",
    "models_backup_path = os.path.join(logdir, 'models')\n",
    "os.makedirs(models_backup_path, exist_ok=True)\n",
    "\n",
    "temp = r'F:\\Classes\\COMPSCI 674 - Intelligent Visual Computing\\Project\\CS-674-Final-Project-3dInAction\\train.py'\n",
    "\n",
    "if os.name == 'nt':\n",
    "    os.system(f'copy \"{temp}\" \"{back_file}\"') # backup the current training file\n",
    "    for file in os.listdir('models'):\n",
    "        if file.endswith('.py'):\n",
    "            current_file = os.path.join('models', file)\n",
    "            new_file=os.path.join(models_backup_path, file)\n",
    "            os.system(f'copy \"{current_file}\" \"{new_file}\"')\n",
    "else:\n",
    "    os.system(f'cp \"{temp}\" \"{back_file}\"') # backup the current training file\n",
    "    os.system(f'cp \"models/*.py\" \"{models_backup_path}\"')  # backup the models files\n",
    "    \n",
    "logger.debug(f'backed up the current training file: {(temp, back_file)}')\n",
    "logger.debug(f'backup the models files: models/*.py, {models_backup_path}')"
   ]
  },
  {
   "cell_type": "code",
   "execution_count": 9,
   "metadata": {},
   "outputs": [
    {
     "name": "stderr",
     "output_type": "stream",
     "text": [
      "Number of clips in the train set: 1402\n",
      "Using MSR-Action3D for training\n",
      "Number of clips in the test set: 102\n"
     ]
    }
   ],
   "source": [
    "# build dataloader and dataset\n",
    "train_dataloader, train_dataset = build_dataloader(config=cfg, training=True, shuffle=False, logger=logger) # should be unshuffled because of sampler\n",
    "test_dataloader, test_dataset = build_dataloader(config=cfg, training=False, shuffle=True, logger=logger)"
   ]
  },
  {
   "cell_type": "markdown",
   "metadata": {},
   "source": [
    "#### getting holdout"
   ]
  },
  {
   "cell_type": "code",
   "execution_count": 12,
   "metadata": {},
   "outputs": [],
   "source": [
    "import torch\n",
    "import pickle\n",
    "import numpy as NumPy\n",
    "import torch.cuda as tcuda\n",
    "import os\n",
    "import random\n",
    "dataset_path = f'datasets\\data\\MSRAction3D_fps'"
   ]
  },
  {
   "cell_type": "code",
   "execution_count": 75,
   "metadata": {},
   "outputs": [
    {
     "name": "stdout",
     "output_type": "stream",
     "text": [
      "567 567\n",
      "<class 'list'> <class 'numpy.ndarray'>\n"
     ]
    }
   ],
   "source": [
    "with open(os.path.join(dataset_path, 'MSRAction3D_FPS_Videos.pickle') , mode = 'rb') as msr_action3d_pickle_file:\n",
    "      msr_action3d_depth_map_sequences = pickle.load(msr_action3d_pickle_file)\n",
    "msr_action3d_depth_map_sequence_labels = NumPy.load(os.path.join(dataset_path, 'MSRAction3D_FPS_Video_Labels.npz'))['labels']\n",
    "\n",
    "print(len(msr_action3d_depth_map_sequences), len(msr_action3d_depth_map_sequence_labels))\n",
    "print(type(msr_action3d_depth_map_sequences), type(msr_action3d_depth_map_sequence_labels))"
   ]
  },
  {
   "cell_type": "markdown",
   "metadata": {},
   "source": [
    "#### create holdout alt"
   ]
  },
  {
   "cell_type": "code",
   "execution_count": 139,
   "metadata": {},
   "outputs": [
    {
     "name": "stdout",
     "output_type": "stream",
     "text": [
      "567\n",
      "56 [68, 451, 549, 116, 99, 157, 168, 346, 424, 222, 551, 257, 360, 362, 260, 519, 11, 532, 64, 430, 113, 470, 75, 102, 466, 150, 391, 189, 418, 34, 352, 435, 285, 289, 144, 85, 454, 559, 321, 193, 45, 225, 455, 139, 552, 201, 290, 210, 271, 56, 525, 375, 291, 393, 134, 37]\n"
     ]
    }
   ],
   "source": [
    "temp = list(zip(msr_action3d_depth_map_sequences, msr_action3d_depth_map_sequence_labels))\n",
    "print(len(temp))\n",
    "\n",
    "size = len(msr_action3d_depth_map_sequence_labels)\n",
    "choice_pos = random.sample(range(size), k=int(size*.10))\n",
    "print(len(choice_pos), choice_pos)\n",
    "\n",
    "train = []\n",
    "holdout = []\n",
    "\n",
    "indices = range(size)\n",
    "for i in indices:\n",
    "    if i in choice_pos:\n",
    "        holdout.append(temp[i])\n",
    "    else:\n",
    "        train.append(temp[i])\n",
    "        "
   ]
  },
  {
   "cell_type": "code",
   "execution_count": 141,
   "metadata": {},
   "outputs": [
    {
     "data": {
      "text/plain": [
       "array([[<Axes: title={'center': '0'}>]], dtype=object)"
      ]
     },
     "execution_count": 141,
     "metadata": {},
     "output_type": "execute_result"
    },
    {
     "data": {
      "image/png": "[encoded data removed]",
      "text/plain": [
       "<Figure size 640x480 with 1 Axes>"
      ]
     },
     "metadata": {},
     "output_type": "display_data"
    }
   ],
   "source": [
    "holdout_msr_action3d_depth_map_sequences = [x[0] for x in holdout]\n",
    "holdout_msr_action3d_depth_map_sequence_labels = np.array([x[1] for x in holdout])\n",
    "pd.DataFrame(holdout_msr_action3d_depth_map_sequence_labels).hist(bins=20)"
   ]
  },
  {
   "cell_type": "code",
   "execution_count": 146,
   "metadata": {},
   "outputs": [],
   "source": [
    "#? saving holdout\n",
    "with open(r'datasets\\data\\MSRAction3D_fps_new_2\\test\\MSRAction3D_FPS_Videos.pickle', 'wb') as f:\n",
    "    pickle.dump(holdout_msr_action3d_depth_map_sequences, f)\n",
    "    \n",
    "data = {\"labels\": holdout_msr_action3d_depth_map_sequence_labels}\n",
    "np.savez(r'datasets\\data\\MSRAction3D_fps_new_2\\test\\MSRAction3D_FPS_Video_Labels.npz', **data)"
   ]
  },
  {
   "cell_type": "code",
   "execution_count": 148,
   "metadata": {},
   "outputs": [
    {
     "data": {
      "text/plain": [
       "array([[<Axes: title={'center': '0'}>]], dtype=object)"
      ]
     },
     "execution_count": 148,
     "metadata": {},
     "output_type": "execute_result"
    },
    {
     "data": {
      "image/png": "[encoded data removed]",
      "text/plain": [
       "<Figure size 640x480 with 1 Axes>"
      ]
     },
     "metadata": {},
     "output_type": "display_data"
    }
   ],
   "source": [
    "train_msr_action3d_depth_map_sequences = [x[0] for x in train]\n",
    "train_msr_action3d_depth_map_sequence_labels = np.array([x[1] for x in train])\n",
    "pd.DataFrame(train_msr_action3d_depth_map_sequence_labels).hist(bins=20)"
   ]
  },
  {
   "cell_type": "code",
   "execution_count": 149,
   "metadata": {},
   "outputs": [],
   "source": [
    "#? saving holdout\n",
    "with open(r'datasets\\data\\MSRAction3D_fps_new_2\\train\\MSRAction3D_FPS_Videos.pickle', 'wb') as f:\n",
    "    pickle.dump(train_msr_action3d_depth_map_sequences, f)\n",
    "    \n",
    "data = {\"labels\": train_msr_action3d_depth_map_sequence_labels}\n",
    "np.savez(r'datasets\\data\\MSRAction3D_fps_new_2\\train\\MSRAction3D_FPS_Video_Labels.npz', **data)"
   ]
  },
  {
   "cell_type": "markdown",
   "metadata": {},
   "source": [
    "# making holdouts old"
   ]
  },
  {
   "cell_type": "code",
   "execution_count": 199,
   "metadata": {},
   "outputs": [
    {
     "name": "stdout",
     "output_type": "stream",
     "text": [
      "[10, 11, 21, 27, 46, 54, 63, 68, 78, 83, 88, 105, 129, 131, 137, 148, 160, 161, 171, 172, 185, 190, 204, 214, 217, 238, 248, 249, 253, 254, 256, 264, 282, 306, 308, 353, 390, 394, 397, 405, 421, 422, 427, 456, 461, 471, 505, 517, 521, 523, 536, 538, 545, 546, 557, 564]\n",
      "56 56\n",
      "<class 'list'> <class 'numpy.ndarray'>\n"
     ]
    }
   ],
   "source": [
    "size = len(msr_action3d_depth_map_sequence_labels)\n",
    "choice_pos = random.sample(range(size), k=int(size*.10))\n",
    "choice_pos.sort()\n",
    "print(choice_pos)\n",
    "\n",
    "#? holdout\n",
    "new_msr_action3d_depth_map_sequences = []\n",
    "new_msr_action3d_depth_map_sequence_labels = []\n",
    "\n",
    "indices = range(size)\n",
    "for i in indices:\n",
    "    if i in choice_pos:\n",
    "        new_msr_action3d_depth_map_sequences.append(msr_action3d_depth_map_sequences[i])\n",
    "        new_msr_action3d_depth_map_sequence_labels.append(msr_action3d_depth_map_sequence_labels[i])\n",
    "\n",
    "new_msr_action3d_depth_map_sequence_labels = np.array(new_msr_action3d_depth_map_sequence_labels)\n",
    "\n",
    "print(len(new_msr_action3d_depth_map_sequences), len(new_msr_action3d_depth_map_sequence_labels))\n",
    "print(type(new_msr_action3d_depth_map_sequences), type(new_msr_action3d_depth_map_sequence_labels))"
   ]
  },
  {
   "cell_type": "code",
   "execution_count": 200,
   "metadata": {},
   "outputs": [
    {
     "data": {
      "text/plain": [
       "array([[<Axes: title={'center': '0'}>]], dtype=object)"
      ]
     },
     "execution_count": 200,
     "metadata": {},
     "output_type": "execute_result"
    },
    {
     "data": {
      "image/png": "[encoded data removed]",
      "text/plain": [
       "<Figure size 640x480 with 1 Axes>"
      ]
     },
     "metadata": {},
     "output_type": "display_data"
    }
   ],
   "source": [
    "pd.DataFrame(new_msr_action3d_depth_map_sequence_labels).hist(bins=20)"
   ]
  },
  {
   "cell_type": "code",
   "execution_count": 201,
   "metadata": {},
   "outputs": [],
   "source": [
    "\n",
    "#? saving holdout\n",
    "with open(r'datasets\\data\\MSRAction3D_fps_new\\test\\MSRAction3D_FPS_Videos.pickle', 'wb') as f:\n",
    "    pickle.dump(new_msr_action3d_depth_map_sequences, f)\n",
    "    \n",
    "data = {\"labels\": new_msr_action3d_depth_map_sequence_labels}\n",
    "np.savez(r'datasets\\data\\MSRAction3D_fps_new\\test\\MSRAction3D_FPS_Video_Labels.npz', **data)"
   ]
  },
  {
   "cell_type": "code",
   "execution_count": 202,
   "metadata": {},
   "outputs": [
    {
     "name": "stdout",
     "output_type": "stream",
     "text": [
      "56 56\n",
      "<class 'list'> <class 'numpy.ndarray'>\n"
     ]
    },
    {
     "data": {
      "text/plain": [
       "array([ True,  True,  True,  True,  True,  True,  True,  True,  True,\n",
       "        True,  True,  True,  True,  True,  True,  True,  True,  True,\n",
       "        True,  True,  True,  True,  True,  True,  True,  True,  True,\n",
       "        True,  True,  True,  True,  True,  True,  True,  True,  True,\n",
       "        True,  True,  True,  True,  True,  True,  True,  True,  True,\n",
       "        True,  True,  True,  True,  True,  True,  True,  True,  True,\n",
       "        True,  True])"
      ]
     },
     "execution_count": 202,
     "metadata": {},
     "output_type": "execute_result"
    }
   ],
   "source": [
    "\n",
    "#? checking\n",
    "with open(r'datasets\\data\\MSRAction3D_fps_new\\test\\MSRAction3D_FPS_Videos.pickle' , mode = 'rb') as msr_action3d_pickle_file:\n",
    "      test_msr_action3d_depth_map_sequences = pickle.load(msr_action3d_pickle_file)\n",
    "test_msr_action3d_depth_map_sequence_labels = NumPy.load(r'datasets\\data\\MSRAction3D_fps_new\\test\\MSRAction3D_FPS_Video_Labels.npz')['labels']\n",
    "\n",
    "print(len(test_msr_action3d_depth_map_sequences), len(test_msr_action3d_depth_map_sequence_labels))\n",
    "print(type(test_msr_action3d_depth_map_sequences), type(test_msr_action3d_depth_map_sequence_labels))\n",
    "np.equal(new_msr_action3d_depth_map_sequence_labels, test_msr_action3d_depth_map_sequence_labels)"
   ]
  },
  {
   "cell_type": "markdown",
   "metadata": {},
   "source": [
    "# making train set"
   ]
  },
  {
   "cell_type": "code",
   "execution_count": 204,
   "metadata": {},
   "outputs": [
    {
     "name": "stdout",
     "output_type": "stream",
     "text": [
      "511 511\n",
      "<class 'list'> <class 'numpy.ndarray'>\n"
     ]
    }
   ],
   "source": [
    "#? holdout\n",
    "new_msr_action3d_depth_map_sequences = []\n",
    "new_msr_action3d_depth_map_sequence_labels = []\n",
    "\n",
    "indices = range(size)\n",
    "for i in indices:\n",
    "    if i not in choice_pos:\n",
    "        new_msr_action3d_depth_map_sequences.append(msr_action3d_depth_map_sequences[i])\n",
    "        new_msr_action3d_depth_map_sequence_labels.append(msr_action3d_depth_map_sequence_labels[i])\n",
    "\n",
    "new_msr_action3d_depth_map_sequence_labels = np.array(new_msr_action3d_depth_map_sequence_labels)\n",
    "\n",
    "print(len(new_msr_action3d_depth_map_sequences), len(new_msr_action3d_depth_map_sequence_labels))\n",
    "print(type(new_msr_action3d_depth_map_sequences), type(new_msr_action3d_depth_map_sequence_labels))"
   ]
  },
  {
   "cell_type": "code",
   "execution_count": 205,
   "metadata": {},
   "outputs": [
    {
     "data": {
      "text/plain": [
       "array([[<Axes: title={'center': '0'}>]], dtype=object)"
      ]
     },
     "execution_count": 205,
     "metadata": {},
     "output_type": "execute_result"
    },
    {
     "data": {
      "image/png": "[encoded data removed]",
      "text/plain": [
       "<Figure size 640x480 with 1 Axes>"
      ]
     },
     "metadata": {},
     "output_type": "display_data"
    }
   ],
   "source": [
    "pd.DataFrame(new_msr_action3d_depth_map_sequence_labels).hist(bins=20)"
   ]
  },
  {
   "cell_type": "code",
   "execution_count": 206,
   "metadata": {},
   "outputs": [],
   "source": [
    "\n",
    "#? saving training set\n",
    "with open(r'datasets\\data\\MSRAction3D_fps_new\\train\\MSRAction3D_FPS_Videos.pickle', 'wb') as f:\n",
    "    pickle.dump(new_msr_action3d_depth_map_sequences, f)\n",
    "    \n",
    "data = {\"labels\": new_msr_action3d_depth_map_sequence_labels}\n",
    "np.savez(r'datasets\\data\\MSRAction3D_fps_new\\train\\MSRAction3D_FPS_Video_Labels.npz', **data)"
   ]
  },
  {
   "cell_type": "code",
   "execution_count": 207,
   "metadata": {},
   "outputs": [
    {
     "name": "stdout",
     "output_type": "stream",
     "text": [
      "511 511\n",
      "<class 'list'> <class 'numpy.ndarray'>\n"
     ]
    },
    {
     "data": {
      "text/plain": [
       "array([ True,  True,  True,  True,  True,  True,  True,  True,  True,\n",
       "        True,  True,  True,  True,  True,  True,  True,  True,  True,\n",
       "        True,  True,  True,  True,  True,  True,  True,  True,  True,\n",
       "        True,  True,  True,  True,  True,  True,  True,  True,  True,\n",
       "        True,  True,  True,  True,  True,  True,  True,  True,  True,\n",
       "        True,  True,  True,  True,  True,  True,  True,  True,  True,\n",
       "        True,  True,  True,  True,  True,  True,  True,  True,  True,\n",
       "        True,  True,  True,  True,  True,  True,  True,  True,  True,\n",
       "        True,  True,  True,  True,  True,  True,  True,  True,  True,\n",
       "        True,  True,  True,  True,  True,  True,  True,  True,  True,\n",
       "        True,  True,  True,  True,  True,  True,  True,  True,  True,\n",
       "        True,  True,  True,  True,  True,  True,  True,  True,  True,\n",
       "        True,  True,  True,  True,  True,  True,  True,  True,  True,\n",
       "        True,  True,  True,  True,  True,  True,  True,  True,  True,\n",
       "        True,  True,  True,  True,  True,  True,  True,  True,  True,\n",
       "        True,  True,  True,  True,  True,  True,  True,  True,  True,\n",
       "        True,  True,  True,  True,  True,  True,  True,  True,  True,\n",
       "        True,  True,  True,  True,  True,  True,  True,  True,  True,\n",
       "        True,  True,  True,  True,  True,  True,  True,  True,  True,\n",
       "        True,  True,  True,  True,  True,  True,  True,  True,  True,\n",
       "        True,  True,  True,  True,  True,  True,  True,  True,  True,\n",
       "        True,  True,  True,  True,  True,  True,  True,  True,  True,\n",
       "        True,  True,  True,  True,  True,  True,  True,  True,  True,\n",
       "        True,  True,  True,  True,  True,  True,  True,  True,  True,\n",
       "        True,  True,  True,  True,  True,  True,  True,  True,  True,\n",
       "        True,  True,  True,  True,  True,  True,  True,  True,  True,\n",
       "        True,  True,  True,  True,  True,  True,  True,  True,  True,\n",
       "        True,  True,  True,  True,  True,  True,  True,  True,  True,\n",
       "        True,  True,  True,  True,  True,  True,  True,  True,  True,\n",
       "        True,  True,  True,  True,  True,  True,  True,  True,  True,\n",
       "        True,  True,  True,  True,  True,  True,  True,  True,  True,\n",
       "        True,  True,  True,  True,  True,  True,  True,  True,  True,\n",
       "        True,  True,  True,  True,  True,  True,  True,  True,  True,\n",
       "        True,  True,  True,  True,  True,  True,  True,  True,  True,\n",
       "        True,  True,  True,  True,  True,  True,  True,  True,  True,\n",
       "        True,  True,  True,  True,  True,  True,  True,  True,  True,\n",
       "        True,  True,  True,  True,  True,  True,  True,  True,  True,\n",
       "        True,  True,  True,  True,  True,  True,  True,  True,  True,\n",
       "        True,  True,  True,  True,  True,  True,  True,  True,  True,\n",
       "        True,  True,  True,  True,  True,  True,  True,  True,  True,\n",
       "        True,  True,  True,  True,  True,  True,  True,  True,  True,\n",
       "        True,  True,  True,  True,  True,  True,  True,  True,  True,\n",
       "        True,  True,  True,  True,  True,  True,  True,  True,  True,\n",
       "        True,  True,  True,  True,  True,  True,  True,  True,  True,\n",
       "        True,  True,  True,  True,  True,  True,  True,  True,  True,\n",
       "        True,  True,  True,  True,  True,  True,  True,  True,  True,\n",
       "        True,  True,  True,  True,  True,  True,  True,  True,  True,\n",
       "        True,  True,  True,  True,  True,  True,  True,  True,  True,\n",
       "        True,  True,  True,  True,  True,  True,  True,  True,  True,\n",
       "        True,  True,  True,  True,  True,  True,  True,  True,  True,\n",
       "        True,  True,  True,  True,  True,  True,  True,  True,  True,\n",
       "        True,  True,  True,  True,  True,  True,  True,  True,  True,\n",
       "        True,  True,  True,  True,  True,  True,  True,  True,  True,\n",
       "        True,  True,  True,  True,  True,  True,  True,  True,  True,\n",
       "        True,  True,  True,  True,  True,  True,  True,  True,  True,\n",
       "        True,  True,  True,  True,  True,  True,  True,  True,  True,\n",
       "        True,  True,  True,  True,  True,  True,  True])"
      ]
     },
     "execution_count": 207,
     "metadata": {},
     "output_type": "execute_result"
    }
   ],
   "source": [
    "\n",
    "#? checking\n",
    "with open(r'datasets\\data\\MSRAction3D_fps_new\\train\\MSRAction3D_FPS_Videos.pickle' , mode = 'rb') as msr_action3d_pickle_file:\n",
    "      train_msr_action3d_depth_map_sequences = pickle.load(msr_action3d_pickle_file)\n",
    "train_msr_action3d_depth_map_sequence_labels = NumPy.load(r'datasets\\data\\MSRAction3D_fps_new\\train\\MSRAction3D_FPS_Video_Labels.npz')['labels']\n",
    "\n",
    "print(len(train_msr_action3d_depth_map_sequences), len(train_msr_action3d_depth_map_sequence_labels))\n",
    "print(type(train_msr_action3d_depth_map_sequences), type(train_msr_action3d_depth_map_sequence_labels))\n",
    "np.equal(new_msr_action3d_depth_map_sequence_labels, train_msr_action3d_depth_map_sequence_labels)"
   ]
  },
  {
   "cell_type": "code",
   "execution_count": 125,
   "metadata": {},
   "outputs": [
    {
     "data": {
      "text/plain": [
       "10    29\n",
       "19    29\n",
       "15    28\n",
       "7     28\n",
       "8     27\n",
       "9     27\n",
       "17    27\n",
       "16    27\n",
       "12    26\n",
       "13    26\n",
       "0     25\n",
       "18    25\n",
       "5     25\n",
       "6     25\n",
       "1     25\n",
       "2     24\n",
       "4     24\n",
       "3     23\n",
       "11    23\n",
       "14    18\n",
       "Name: count, dtype: int64"
      ]
     },
     "execution_count": 125,
     "metadata": {},
     "output_type": "execute_result"
    }
   ],
   "source": [
    "pd.DataFrame(train_msr_action3d_depth_map_sequence_labels).value_counts()"
   ]
  }
 ],
 "metadata": {
  "kernelspec": {
   "display_name": "tpatches_env",
   "language": "python",
   "name": "python3"
  },
  "language_info": {
   "codemirror_mode": {
    "name": "ipython",
    "version": 3
   },
   "file_extension": ".py",
   "mimetype": "text/x-python",
   "name": "python",
   "nbconvert_exporter": "python",
   "pygments_lexer": "ipython3",
   "version": "3.8.16"
  }
 },
 "nbformat": 4,
 "nbformat_minor": 2
}
